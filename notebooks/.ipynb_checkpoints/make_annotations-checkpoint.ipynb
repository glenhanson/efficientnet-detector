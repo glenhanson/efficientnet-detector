{
 "cells": [
  {
   "cell_type": "code",
   "execution_count": 3,
   "id": "28f14e98",
   "metadata": {},
   "outputs": [],
   "source": [
    "import pandas as pd\n",
    "from efficientnet.config import Config"
   ]
  },
  {
   "cell_type": "code",
   "execution_count": 4,
   "id": "edd73ecf",
   "metadata": {},
   "outputs": [],
   "source": [
    "train_images = list(Config.image_directory.glob(\"*.png\"))\n",
    "train_data = \"/Users/glen/code/efficientnet/train.csv\""
   ]
  },
  {
   "cell_type": "code",
   "execution_count": 6,
   "id": "5ace0c11",
   "metadata": {},
   "outputs": [],
   "source": [
    "data = pd.read_csv(train_data)"
   ]
  },
  {
   "cell_type": "code",
   "execution_count": null,
   "id": "65019095",
   "metadata": {},
   "outputs": [],
   "source": [
    "image_ids = []\n",
    "for x in train_images:\n",
    "    filename = x.name\n",
    "    slug = filename.split(\"_\")[1]\n",
    "    slug = slug.split(\".\")[0]\n",
    "    image_ids.append(int(slug))"
   ]
  },
  {
   "cell_type": "code",
   "execution_count": null,
   "id": "a4018b62",
   "metadata": {},
   "outputs": [],
   "source": [
    "images_df = pd.DataFrame()\n",
    "images_df['image_id'] = image_ids\n",
    "images_df['image_path'] = train_images"
   ]
  },
  {
   "cell_type": "code",
   "execution_count": null,
   "id": "c5abece2",
   "metadata": {},
   "outputs": [],
   "source": [
    "merged_df = pd.merge(data,images_df,how='inner',on='image_id')"
   ]
  },
  {
   "cell_type": "code",
   "execution_count": null,
   "id": "b96a73d7",
   "metadata": {},
   "outputs": [],
   "source": [
    "merged_df"
   ]
  },
  {
   "cell_type": "code",
   "execution_count": null,
   "id": "396da945",
   "metadata": {},
   "outputs": [],
   "source": [
    "cancer_df = merged_df['image_path'][merged_df['cancer']==1]\n",
    "cancer_free_df = merged_df['image_path'][merged_df['cancer']==0]"
   ]
  },
  {
   "cell_type": "code",
   "execution_count": null,
   "id": "0a27d802",
   "metadata": {},
   "outputs": [],
   "source": [
    "for x in cancer_df.sample(n=100):\n",
    "    image_path = Path(x)\n",
    "    slug = image_path.stem\n",
    "    data = {\"image_path\":str(x), \"cancer\":1}\n",
    "    annotation_path = Config.annotation_directory /f\"{slug}.json\"\n",
    "    with open(annotation_path, \"w\") as f:\n",
    "        json.dump(data,f)"
   ]
  },
  {
   "cell_type": "code",
   "execution_count": null,
   "id": "012f856d",
   "metadata": {},
   "outputs": [],
   "source": [
    "for x in cancer_free_df.sample(n=100):\n",
    "    image_path = Path(x)\n",
    "    slug = image_path.stem\n",
    "    data = {\"image_path\":str(x), \"cancer\":0}\n",
    "    annotation_path = Config.annotation_directory /f\"{slug}.json\"\n",
    "    with open(annotation_path, \"w\") as f:\n",
    "        json.dump(data,f)"
   ]
  }
 ],
 "metadata": {
  "kernelspec": {
   "display_name": "Python 3 (ipykernel)",
   "language": "python",
   "name": "python3"
  },
  "language_info": {
   "codemirror_mode": {
    "name": "ipython",
    "version": 3
   },
   "file_extension": ".py",
   "mimetype": "text/x-python",
   "name": "python",
   "nbconvert_exporter": "python",
   "pygments_lexer": "ipython3",
   "version": "3.9.15"
  }
 },
 "nbformat": 4,
 "nbformat_minor": 5
}
